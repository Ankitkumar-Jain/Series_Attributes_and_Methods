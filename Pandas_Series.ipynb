{
 "cells": [
  {
   "cell_type": "code",
   "execution_count": 1,
   "id": "f208d3d2",
   "metadata": {},
   "outputs": [],
   "source": [
    "import numpy as np\n",
    "import pandas as pd"
   ]
  },
  {
   "cell_type": "code",
   "execution_count": 2,
   "id": "8d8fa8ac",
   "metadata": {},
   "outputs": [],
   "source": [
    "df = pd.read_csv('Amazon Sale Report.csv',usecols=['Amount'])"
   ]
  },
  {
   "cell_type": "code",
   "execution_count": 3,
   "id": "470a3e50",
   "metadata": {},
   "outputs": [],
   "source": [
    "x=df['Amount']"
   ]
  },
  {
   "cell_type": "code",
   "execution_count": 4,
   "id": "d4243d9c",
   "metadata": {},
   "outputs": [],
   "source": [
    "x = x.head(50)"
   ]
  },
  {
   "cell_type": "code",
   "execution_count": 6,
   "id": "23ed82f8",
   "metadata": {},
   "outputs": [
    {
     "data": {
      "text/plain": [
       "pandas.core.series.Series"
      ]
     },
     "execution_count": 6,
     "metadata": {},
     "output_type": "execute_result"
    }
   ],
   "source": [
    "type(x)"
   ]
  },
  {
   "cell_type": "markdown",
   "id": "87d5b43a",
   "metadata": {},
   "source": [
    "# Series Attributes"
   ]
  },
  {
   "cell_type": "markdown",
   "id": "2010880e",
   "metadata": {},
   "source": [
    "<h2><b>1. index</b></h2> Defines the index of the series<br>\n",
    "<i>syntax</i>==> seriesobject.index"
   ]
  },
  {
   "cell_type": "code",
   "execution_count": 7,
   "id": "422f59af",
   "metadata": {},
   "outputs": [
    {
     "data": {
      "text/plain": [
       "RangeIndex(start=0, stop=50, step=1)"
      ]
     },
     "execution_count": 7,
     "metadata": {},
     "output_type": "execute_result"
    }
   ],
   "source": [
    "x.index"
   ]
  },
  {
   "cell_type": "markdown",
   "id": "5edf9b72",
   "metadata": {},
   "source": [
    "<h2><b>2. shape</b></h2> returns the tuple of the data<br>\n",
    "<i>syntax</i>==> seriesobject.shape"
   ]
  },
  {
   "cell_type": "code",
   "execution_count": 8,
   "id": "d06c8035",
   "metadata": {},
   "outputs": [
    {
     "data": {
      "text/plain": [
       "(50,)"
      ]
     },
     "execution_count": 8,
     "metadata": {},
     "output_type": "execute_result"
    }
   ],
   "source": [
    "x.shape"
   ]
  },
  {
   "cell_type": "markdown",
   "id": "53e82b0c",
   "metadata": {},
   "source": [
    "<h2><b>3. dtype</b></h2> return the data type of the data<br>\n",
    "<i>syntax</i>==> seriesobject.dtype"
   ]
  },
  {
   "cell_type": "code",
   "execution_count": 9,
   "id": "59e23a09",
   "metadata": {},
   "outputs": [
    {
     "data": {
      "text/plain": [
       "dtype('float64')"
      ]
     },
     "execution_count": 9,
     "metadata": {},
     "output_type": "execute_result"
    }
   ],
   "source": [
    "x.dtype"
   ]
  },
  {
   "cell_type": "markdown",
   "id": "4de65f40",
   "metadata": {},
   "source": [
    "<h2><b>4. size</b></h2> returns the size of the data<br>\n",
    "<i>syntax</i>==> seriesobject.size"
   ]
  },
  {
   "cell_type": "code",
   "execution_count": 11,
   "id": "e418cb2e",
   "metadata": {},
   "outputs": [
    {
     "data": {
      "text/plain": [
       "50"
      ]
     },
     "execution_count": 11,
     "metadata": {},
     "output_type": "execute_result"
    }
   ],
   "source": [
    "x.size"
   ]
  },
  {
   "cell_type": "markdown",
   "id": "b94006c1",
   "metadata": {},
   "source": [
    "<h2><b>5. empty</b></h2> check wheter it empty or not. It empty series than return True otherwise False<br>\n",
    "<i>syntax</i>==> seriesobject.empty"
   ]
  },
  {
   "cell_type": "code",
   "execution_count": 12,
   "id": "0bc2d356",
   "metadata": {},
   "outputs": [
    {
     "data": {
      "text/plain": [
       "False"
      ]
     },
     "execution_count": 12,
     "metadata": {},
     "output_type": "execute_result"
    }
   ],
   "source": [
    "x.empty"
   ]
  },
  {
   "cell_type": "markdown",
   "id": "7a8114e4",
   "metadata": {},
   "source": [
    "<h2><b>6. hasnans</b></h2> return True if their any NaN values otherwise False<br>\n",
    "<i>syntax</i>==> seriesobject.hasnans"
   ]
  },
  {
   "cell_type": "code",
   "execution_count": 13,
   "id": "c5ab3354",
   "metadata": {},
   "outputs": [
    {
     "data": {
      "text/plain": [
       "True"
      ]
     },
     "execution_count": 13,
     "metadata": {},
     "output_type": "execute_result"
    }
   ],
   "source": [
    "x.hasnans"
   ]
  },
  {
   "cell_type": "markdown",
   "id": "40c5d936",
   "metadata": {},
   "source": [
    "<h2><b>7. nbytes</b></h2> returns number of bytes in the data<br>\n",
    "<i>syntax</i>==> seriesobject.nbytes"
   ]
  },
  {
   "cell_type": "code",
   "execution_count": 14,
   "id": "149f3309",
   "metadata": {},
   "outputs": [
    {
     "data": {
      "text/plain": [
       "400"
      ]
     },
     "execution_count": 14,
     "metadata": {},
     "output_type": "execute_result"
    }
   ],
   "source": [
    "x.nbytes"
   ]
  },
  {
   "cell_type": "markdown",
   "id": "696ea8ad",
   "metadata": {},
   "source": [
    "<h2><b>8. ndim</b></h2> returns the number of dimensions<br>\n",
    "<i>syntax</i>==> seriesobject.ndim"
   ]
  },
  {
   "cell_type": "code",
   "execution_count": 15,
   "id": "bc2a1036",
   "metadata": {},
   "outputs": [
    {
     "data": {
      "text/plain": [
       "1"
      ]
     },
     "execution_count": 15,
     "metadata": {},
     "output_type": "execute_result"
    }
   ],
   "source": [
    "x.ndim"
   ]
  },
  {
   "cell_type": "markdown",
   "id": "2d4d82f3",
   "metadata": {},
   "source": [
    "# Series Methods(Common) "
   ]
  },
  {
   "cell_type": "markdown",
   "id": "d652d17b",
   "metadata": {},
   "source": [
    "<h2><b>1. head()</b></h2> returns the first five values from the series<br>\n",
    "<i>syntax</i>==> seriesobject.head()"
   ]
  },
  {
   "cell_type": "code",
   "execution_count": 20,
   "id": "6735f46a",
   "metadata": {},
   "outputs": [
    {
     "data": {
      "text/plain": [
       "0    647.62\n",
       "1    406.00\n",
       "2    329.00\n",
       "3    753.33\n",
       "4    574.00\n",
       "Name: Amount, dtype: float64"
      ]
     },
     "execution_count": 20,
     "metadata": {},
     "output_type": "execute_result"
    }
   ],
   "source": [
    "x.head()"
   ]
  },
  {
   "cell_type": "markdown",
   "id": "d9a75f03",
   "metadata": {},
   "source": [
    "<h2><b>2. tail()</b></h2> returns the last five values from the series<br>\n",
    "<i>syntax</i>==> seriesobject.tail()"
   ]
  },
  {
   "cell_type": "code",
   "execution_count": 22,
   "id": "f8376b76",
   "metadata": {},
   "outputs": [
    {
     "data": {
      "text/plain": [
       "45     759.0\n",
       "46    1146.0\n",
       "47     665.0\n",
       "48     429.0\n",
       "49     399.0\n",
       "Name: Amount, dtype: float64"
      ]
     },
     "execution_count": 22,
     "metadata": {},
     "output_type": "execute_result"
    }
   ],
   "source": [
    "x.tail()"
   ]
  },
  {
   "cell_type": "markdown",
   "id": "873cda30",
   "metadata": {},
   "source": [
    "<h2><b>3. sum()</b></h2> returns the sum of all values<br>\n",
    "<i>syntax</i>==> seriesobject.sum()"
   ]
  },
  {
   "cell_type": "code",
   "execution_count": 23,
   "id": "e5ead0fc",
   "metadata": {},
   "outputs": [
    {
     "data": {
      "text/plain": [
       "27963.43"
      ]
     },
     "execution_count": 23,
     "metadata": {},
     "output_type": "execute_result"
    }
   ],
   "source": [
    "x.sum()"
   ]
  },
  {
   "cell_type": "markdown",
   "id": "5e12d7cd",
   "metadata": {},
   "source": [
    "<h2><b>4. count()</b></h2> returns the number of non-NaN/null values<br>\n",
    "<i>syntax</i>==> seriesobject.count()"
   ]
  },
  {
   "cell_type": "code",
   "execution_count": 25,
   "id": "a420b04e",
   "metadata": {},
   "outputs": [
    {
     "data": {
      "text/plain": [
       "48"
      ]
     },
     "execution_count": 25,
     "metadata": {},
     "output_type": "execute_result"
    }
   ],
   "source": [
    "x.count()"
   ]
  },
  {
   "cell_type": "markdown",
   "id": "a221274a",
   "metadata": {},
   "source": [
    "<h2><b>5. mean()</b></h2> returns the mean/avg of series values<br>\n",
    "<i>syntax</i>==> seriesobject.mean()"
   ]
  },
  {
   "cell_type": "code",
   "execution_count": 26,
   "id": "04c312e7",
   "metadata": {},
   "outputs": [
    {
     "data": {
      "text/plain": [
       "582.5714583333333"
      ]
     },
     "execution_count": 26,
     "metadata": {},
     "output_type": "execute_result"
    }
   ],
   "source": [
    "x.mean()"
   ]
  },
  {
   "cell_type": "markdown",
   "id": "05ac595c",
   "metadata": {},
   "source": [
    "<h2><b>6. describe()</b></h2> This method returns the below values,\n",
    "<ul>\n",
    "    <li>count</li>\n",
    "    <li>mean</li>\n",
    "    <li>std</li>\n",
    "    <li>min</li>\n",
    "    <li>25%</li>\n",
    "    <li>50%</li>\n",
    "    <li>75%</li>\n",
    "    <li>max</li><br>\n",
    "<i>syntax</i>==> seriesobject.describe()"
   ]
  },
  {
   "cell_type": "code",
   "execution_count": 28,
   "id": "e6a372d4",
   "metadata": {},
   "outputs": [
    {
     "data": {
      "text/plain": [
       "count      48.000000\n",
       "mean      582.571458\n",
       "std       221.610593\n",
       "min       299.000000\n",
       "25%       399.000000\n",
       "50%       517.000000\n",
       "75%       688.500000\n",
       "max      1233.000000\n",
       "Name: Amount, dtype: float64"
      ]
     },
     "execution_count": 28,
     "metadata": {},
     "output_type": "execute_result"
    }
   ],
   "source": [
    "x.describe()"
   ]
  },
  {
   "cell_type": "markdown",
   "id": "69d26863",
   "metadata": {},
   "source": [
    "<h2><b>7. unique()</b></h2> returns the unique values from the series<br>\n",
    "<i>syntax</i>==> seriesobject.unique()"
   ]
  },
  {
   "cell_type": "code",
   "execution_count": 29,
   "id": "cd536339",
   "metadata": {},
   "outputs": [
    {
     "data": {
      "text/plain": [
       "array([ 647.62,  406.  ,  329.  ,  753.33,  574.  ,  824.  ,  653.  ,\n",
       "        399.  ,     nan,  363.  ,  685.  ,  364.  ,  657.  ,  771.  ,\n",
       "        544.  ,  458.  ,  886.  ,  517.  ,  666.  ,  376.  ,  570.48,\n",
       "        499.  ,  582.  ,  299.  ,  459.  ,  791.  , 1233.  ,  487.  ,\n",
       "        368.  ,  699.  ,  885.  ,  424.  , 1126.  ,  788.  ,  759.  ,\n",
       "       1146.  ,  665.  ,  429.  ])"
      ]
     },
     "execution_count": 29,
     "metadata": {},
     "output_type": "execute_result"
    }
   ],
   "source": [
    "x.unique()"
   ]
  },
  {
   "cell_type": "markdown",
   "id": "68844f65",
   "metadata": {},
   "source": [
    "<h2><b>8. nunique()</b></h2> returns the number of unique values from the series<br>\n",
    "<i>syntax</i>==> seriesobject.nunique()"
   ]
  },
  {
   "cell_type": "code",
   "execution_count": 31,
   "id": "2f2b52c2",
   "metadata": {},
   "outputs": [
    {
     "data": {
      "text/plain": [
       "37"
      ]
     },
     "execution_count": 31,
     "metadata": {},
     "output_type": "execute_result"
    }
   ],
   "source": [
    "x.nunique()"
   ]
  },
  {
   "cell_type": "code",
   "execution_count": null,
   "id": "0c8254bb",
   "metadata": {},
   "outputs": [],
   "source": []
  }
 ],
 "metadata": {
  "kernelspec": {
   "display_name": "Python 3 (ipykernel)",
   "language": "python",
   "name": "python3"
  },
  "language_info": {
   "codemirror_mode": {
    "name": "ipython",
    "version": 3
   },
   "file_extension": ".py",
   "mimetype": "text/x-python",
   "name": "python",
   "nbconvert_exporter": "python",
   "pygments_lexer": "ipython3",
   "version": "3.9.12"
  }
 },
 "nbformat": 4,
 "nbformat_minor": 5
}
